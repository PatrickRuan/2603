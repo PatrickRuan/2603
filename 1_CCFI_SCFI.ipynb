{
 "cells": [
  {
   "cell_type": "markdown",
   "metadata": {},
   "source": [
    "Data: \n",
    "1. [SCFI](https://www.sse.net.cn/index/singleIndex?indexType=scfi)\n",
    "2. [CCFI](https://www.sse.net.cn/index/singleIndex?indexType=ccfi)"
   ]
  },
  {
   "cell_type": "markdown",
   "metadata": {},
   "source": [
    "# CCFI"
   ]
  },
  {
   "cell_type": "code",
   "execution_count": 11,
   "metadata": {},
   "outputs": [
    {
     "name": "stdout",
     "output_type": "stream",
     "text": [
      "Data has been written to container_freight_index_2024_w44.csv\n",
      "上期 : 1366.40\n",
      "本期 : 1367.54\n",
      "漲跌 : 0.1%\n"
     ]
    }
   ],
   "source": [
    "from bs4 import BeautifulSoup\n",
    "import requests\n",
    "import csv\n",
    "import datetime\n",
    "\n",
    "# 假設您提供了網站 URL\n",
    "url = \"https://www.sse.net.cn/index/singleIndex?indexType=ccfi\"\n",
    "\n",
    "# 訪問網站\n",
    "response = requests.get(url)\n",
    "if response.status_code == 200:\n",
    "    page_content = response.text\n",
    "    \n",
    "    # 使用 BeautifulSoup 解析頁面內容\n",
    "    soup = BeautifulSoup(page_content, 'html.parser')\n",
    "    \n",
    "    # 找到包含數據的表格元素\n",
    "    table = soup.find('table', {'class': 'lb1'})\n",
    "    if table:\n",
    "        rows = table.find_all('tr')\n",
    "        data = []\n",
    "        for row in rows:\n",
    "            columns = row.find_all('td')\n",
    "            row_data = [col.get_text(strip=True) for col in columns]\n",
    "            if row_data:\n",
    "                data.append(row_data)\n",
    "        \n",
    "        # 獲取當前日期並計算是第幾週\n",
    "        today = datetime.date.today()\n",
    "        year, week_num, _ = today.isocalendar()\n",
    "        \n",
    "        # 將數據寫入 CSV 文件，文件名包含年份和第幾週\n",
    "        filename = f'container_freight_index_{year}_w{week_num}.csv'\n",
    "        with open(filename, 'w', newline='', encoding='utf-8') as file:\n",
    "            writer = csv.writer(file)\n",
    "            writer.writerow([\"航线\", \"上期\", \"本期\", \"与上期比涨跌 (%)\"])\n",
    "            writer.writerows(data)\n",
    "        \n",
    "        print(f\"Data has been written to {filename}\")\n",
    "        # 印出第一列的第 3, 4, 5 欄資料\n",
    "        if len(data) > 0 and len(data[0]) >= 4:\n",
    "            print(f\"上期 : {data[1][1]}\")\n",
    "            print(f\"本期 : {data[1][2]}\")\n",
    "            print(f\"漲跌 : {data[1][3]}%\")\n",
    "    else:\n",
    "        print(\"Failed to find the target table.\")\n",
    "else:\n",
    "    print(f\"Failed to retrieve the webpage. Status code: {response.status_code}\")\n",
    "\n",
    "# 注意：\n",
    "# 這段程式碼使用 BeautifulSoup 來解析網頁並提取表格中的數據，適合靜態網頁。如果網站使用 JavaScript 加載數據，這種方法可能無法正常工作。\n"
   ]
  },
  {
   "cell_type": "markdown",
   "metadata": {},
   "source": []
  },
  {
   "cell_type": "code",
   "execution_count": 4,
   "metadata": {},
   "outputs": [
    {
     "data": {
      "text/plain": [
       "<_csv.writer at 0x107a96f80>"
      ]
     },
     "execution_count": 4,
     "metadata": {},
     "output_type": "execute_result"
    }
   ],
   "source": [
    "writer"
   ]
  },
  {
   "cell_type": "code",
   "execution_count": null,
   "metadata": {},
   "outputs": [],
   "source": []
  },
  {
   "cell_type": "markdown",
   "metadata": {},
   "source": [
    "# SCFI"
   ]
  },
  {
   "cell_type": "code",
   "execution_count": 7,
   "metadata": {},
   "outputs": [
    {
     "name": "stdout",
     "output_type": "stream",
     "text": [
      "Data has been written to shanghai_container_freight_index_2024_11_03.csv\n",
      "上期 : 2185.33\n",
      "本期 : 2303.44\n",
      "漲跌 : 118.11\n"
     ]
    }
   ],
   "source": [
    "from bs4 import BeautifulSoup\n",
    "import requests\n",
    "import csv\n",
    "import datetime\n",
    "\n",
    "# 假設您提供了網站 URL\n",
    "url = \"https://www.sse.net.cn/index/singleIndex?indexType=scfi\"\n",
    "\n",
    "# 訪問網站\n",
    "response = requests.get(url)\n",
    "if response.status_code == 200:\n",
    "    page_content = response.text\n",
    "    \n",
    "    # 使用 BeautifulSoup 解析頁面內容\n",
    "    soup = BeautifulSoup(page_content, 'html.parser')\n",
    "    \n",
    "    # 找到包含數據的表格元素\n",
    "    table = soup.find('table', {'class': 'lb1'})\n",
    "    if table:\n",
    "        rows = table.find_all('tr')\n",
    "        data = []\n",
    "        headers = []\n",
    "        for idx, row in enumerate(rows):\n",
    "            columns = row.find_all('td')\n",
    "            if idx == 0:  # 第一行是表格的標題\n",
    "                headers = [col.get_text(strip=True) for col in columns]\n",
    "            else:\n",
    "                row_data = [col.get_text(strip=True) for col in columns]\n",
    "                if row_data:\n",
    "                    data.append(row_data)\n",
    "        \n",
    "        # 如果表格有表頭信息，將其與表格數據合併\n",
    "        if headers:\n",
    "            filename = f'shanghai_container_freight_index_{datetime.date.today().strftime(\"%Y_%m_%d\")}.csv'\n",
    "            with open(filename, 'w', newline='', encoding='utf-8') as file:\n",
    "                writer = csv.writer(file)\n",
    "                writer.writerow(headers)\n",
    "                writer.writerows(data)\n",
    "            \n",
    "            print(f\"Data has been written to {filename}\")\n",
    "            \n",
    "            # 印出第一列的第 3, 4, 5 欄資料\n",
    "            if len(data) > 0 and len(data[0]) >= 5:\n",
    "                print(f\"上期 : {data[0][3]}\")\n",
    "                print(f\"本期 : {data[0][4]}\")\n",
    "                print(f\"漲跌 : {data[0][5]}\")\n",
    "            else:\n",
    "                print(\"Not enough columns in the first row to print 3rd, 4th, and 5th values.\")\n",
    "        else:\n",
    "            print(\"Failed to find headers in the table.\")\n",
    "    else:\n",
    "        print(\"Failed to find the target table.\")\n",
    "else:\n",
    "    print(f\"Failed to retrieve the webpage. Status code: {response.status_code}\")\n",
    "\n",
    "# 注意：\n",
    "# 這段程式碼使用 BeautifulSoup 來解析網頁並提取表格中的數據，適合靜態網頁。如果網站使用 JavaScript 加載數據，這種方法可能無法正常工作。\n"
   ]
  },
  {
   "cell_type": "markdown",
   "metadata": {},
   "source": [
    "# 2603 集保分佈"
   ]
  },
  {
   "cell_type": "code",
   "execution_count": 12,
   "metadata": {},
   "outputs": [
    {
     "name": "stdout",
     "output_type": "stream",
     "text": [
      "Failed to find the target table.\n"
     ]
    }
   ],
   "source": [
    "from bs4 import BeautifulSoup\n",
    "import requests\n",
    "import csv\n",
    "import datetime\n",
    "\n",
    "# 假設您提供了網站 URL\n",
    "url = \"https://www.cmoney.tw/finance/2603/f00038\"\n",
    "\n",
    "# 訪問網站\n",
    "response = requests.get(url)\n",
    "if response.status_code == 200:\n",
    "    page_content = response.text\n",
    "    \n",
    "    # 使用 BeautifulSoup 解析頁面內容\n",
    "    soup = BeautifulSoup(page_content, 'html.parser')\n",
    "    \n",
    "    # 找到包含數據的表格元素\n",
    "    table = soup.find('table', {'class': 'tb tb1'}) # class=\"tb tb1\"\n",
    "    if table:\n",
    "        rows = table.find_all('tr')\n",
    "        data = []\n",
    "        headers = []\n",
    "        for idx, row in enumerate(rows):\n",
    "            columns = row.find_all('td')\n",
    "            if idx == 0:  # 第一行是表格的標題\n",
    "                headers = [col.get_text(strip=True) for col in columns]\n",
    "            else:\n",
    "                row_data = [col.get_text(strip=True) for col in columns]\n",
    "                if row_data:\n",
    "                    data.append(row_data)\n",
    "        \n",
    "        # 如果表格有表頭信息，將其與表格數據合併\n",
    "        if headers:\n",
    "            # 獲取當前日期並計算是第幾週\n",
    "            today = datetime.date.today()\n",
    "            year, week_num, _ = today.isocalendar()\n",
    "            week_str = f'w{week_num:02}'\n",
    "            \n",
    "            # 將數據寫入 CSV 文件，文件名包含年份和第幾週\n",
    "            filename = f'evergreen_share_distribution_{year}_{week_str}.csv'\n",
    "            with open(filename, 'w', newline='', encoding='utf-8') as file:\n",
    "                writer = csv.writer(file)\n",
    "                writer.writerow(headers)\n",
    "                writer.writerows(data)\n",
    "            \n",
    "            print(f\"Data has been written to {filename}\")\n",
    "            \n",
    "            # 印出第一列的第 3, 4, 5 欄資料\n",
    "            if len(data) > 0 and len(data[0]) >= 5:\n",
    "                print(f\"First row, 3rd column: {data[0][2]}\")\n",
    "                print(f\"First row, 4th column: {data[0][3]}\")\n",
    "                print(f\"First row, 5th column: {data[0][4]}\")\n",
    "            else:\n",
    "                print(\"Not enough columns in the first row to print 3rd, 4th, and 5th values.\")\n",
    "        else:\n",
    "            print(\"Failed to find headers in the table.\")\n",
    "    else:\n",
    "        print(\"Failed to find the target table.\")\n",
    "else:\n",
    "    print(f\"Failed to retrieve the webpage. Status code: {response.status_code}\")\n",
    "\n",
    "# 注意：\n",
    "# 這段程式碼使用 BeautifulSoup 來解析網頁並提取表格中的數據，適合靜態網頁。如果網站使用 JavaScript 加載數據，這種方法可能無法正常工作。\n"
   ]
  },
  {
   "cell_type": "code",
   "execution_count": 13,
   "metadata": {},
   "outputs": [
    {
     "name": "stdout",
     "output_type": "stream",
     "text": [
      "Failed to find the target table.\n"
     ]
    }
   ],
   "source": [
    "from bs4 import BeautifulSoup\n",
    "import requests\n",
    "import csv\n",
    "import datetime\n",
    "\n",
    "# 假設您提供了網站 URL\n",
    "url = \"https://www.cmoney.tw/finance/2603/f00038\"\n",
    "\n",
    "# 訪問網站\n",
    "response = requests.get(url)\n",
    "if response.status_code == 200:\n",
    "    page_content = response.text\n",
    "    \n",
    "    # 使用 BeautifulSoup 解析頁面內容\n",
    "    soup = BeautifulSoup(page_content, 'html.parser')\n",
    "    \n",
    "    # 找到包含數據的表格元素\n",
    "    table = soup.find('table', {'class': 'tb tb1'})\n",
    "    if table:\n",
    "        rows = table.find_all('tr')\n",
    "        data = []\n",
    "        headers = []\n",
    "        for idx, row in enumerate(rows):\n",
    "            if idx == 0:  # 第一行是表格的標題\n",
    "                headers = [col.get_text(strip=True) for col in row.find_all('th')]\n",
    "            else:\n",
    "                columns = row.find_all('td')\n",
    "                row_data = [col.get_text(strip=True) for col in columns]\n",
    "                if row_data:\n",
    "                    data.append(row_data)\n",
    "        \n",
    "        # 如果表格有表頭信息，將其與表格數據合併\n",
    "        if headers:\n",
    "            # 獲取當前日期並計算是第幾週\n",
    "            today = datetime.date.today()\n",
    "            year, week_num, _ = today.isocalendar()\n",
    "            week_str = f'w{week_num:02}'\n",
    "            \n",
    "            # 將數據寫入 CSV 文件，文件名包含年份和第幾週\n",
    "            filename = f'evergreen_share_distribution_{year}_{week_str}.csv'\n",
    "            with open(filename, 'w', newline='', encoding='utf-8') as file:\n",
    "                writer = csv.writer(file)\n",
    "                writer.writerow(headers)\n",
    "                writer.writerows(data)\n",
    "            \n",
    "            print(f\"Data has been written to {filename}\")\n",
    "            \n",
    "            # 印出第一列的第 3, 4, 5 欄資料\n",
    "            if len(data) > 0 and len(data[0]) >= 5:\n",
    "                print(f\"First row, 3rd column: {data[0][2]}\")\n",
    "                print(f\"First row, 4th column: {data[0][3]}\")\n",
    "                print(f\"First row, 5th column: {data[0][4]}\")\n",
    "            else:\n",
    "                print(\"Not enough columns in the first row to print 3rd, 4th, and 5th values.\")\n",
    "        else:\n",
    "            print(\"Failed to find headers in the table.\")\n",
    "    else:\n",
    "        print(\"Failed to find the target table.\")\n",
    "else:\n",
    "    print(f\"Failed to retrieve the webpage. Status code: {response.status_code}\")\n",
    "\n",
    "# 注意：\n",
    "# 這段程式碼使用 BeautifulSoup 來解析網頁並提取表格中的數據，適合靜態網頁。如果網站使用 JavaScript 加載數據，這種方法可能無法正常工作。\n"
   ]
  }
 ],
 "metadata": {
  "kernelspec": {
   "display_name": "python3_11_7",
   "language": "python",
   "name": "python3"
  },
  "language_info": {
   "codemirror_mode": {
    "name": "ipython",
    "version": 3
   },
   "file_extension": ".py",
   "mimetype": "text/x-python",
   "name": "python",
   "nbconvert_exporter": "python",
   "pygments_lexer": "ipython3",
   "version": "3.11.5"
  }
 },
 "nbformat": 4,
 "nbformat_minor": 2
}
